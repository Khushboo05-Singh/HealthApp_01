{
 "cells": [
  {
   "cell_type": "code",
   "execution_count": 334,
   "id": "f2d3b30d",
   "metadata": {},
   "outputs": [],
   "source": [
    "import pandas as pd\n",
    "import matplotlib.pyplot as plt"
   ]
  },
  {
   "cell_type": "code",
   "execution_count": 358,
   "id": "15b64085",
   "metadata": {},
   "outputs": [],
   "source": [
    "df=pd.read_csv('C:/Users/khush/Documents/Python_Programs/HealthApp_2k.log_structured.csv')"
   ]
  },
  {
   "cell_type": "code",
   "execution_count": 359,
   "id": "397a9e96",
   "metadata": {},
   "outputs": [
    {
     "data": {
      "text/html": [
       "<div>\n",
       "<style scoped>\n",
       "    .dataframe tbody tr th:only-of-type {\n",
       "        vertical-align: middle;\n",
       "    }\n",
       "\n",
       "    .dataframe tbody tr th {\n",
       "        vertical-align: top;\n",
       "    }\n",
       "\n",
       "    .dataframe thead th {\n",
       "        text-align: right;\n",
       "    }\n",
       "</style>\n",
       "<table border=\"1\" class=\"dataframe\">\n",
       "  <thead>\n",
       "    <tr style=\"text-align: right;\">\n",
       "      <th></th>\n",
       "      <th>LineId</th>\n",
       "      <th>Time</th>\n",
       "      <th>Component</th>\n",
       "      <th>Pid</th>\n",
       "      <th>Content</th>\n",
       "      <th>EventId</th>\n",
       "      <th>EventTemplate</th>\n",
       "    </tr>\n",
       "  </thead>\n",
       "  <tbody>\n",
       "    <tr>\n",
       "      <th>0</th>\n",
       "      <td>1</td>\n",
       "      <td>20171223-22:15:29:606</td>\n",
       "      <td>Step_LSC</td>\n",
       "      <td>30002312</td>\n",
       "      <td>onStandStepChanged 3579</td>\n",
       "      <td>E42</td>\n",
       "      <td>onStandStepChanged &lt;*&gt;</td>\n",
       "    </tr>\n",
       "    <tr>\n",
       "      <th>1</th>\n",
       "      <td>2</td>\n",
       "      <td>20171223-22:15:29:615</td>\n",
       "      <td>Step_LSC</td>\n",
       "      <td>30002312</td>\n",
       "      <td>onExtend:1514038530000 14 0 4</td>\n",
       "      <td>E39</td>\n",
       "      <td>onExtend:&lt;*&gt; &lt;*&gt; &lt;*&gt; &lt;*&gt;</td>\n",
       "    </tr>\n",
       "    <tr>\n",
       "      <th>2</th>\n",
       "      <td>3</td>\n",
       "      <td>20171223-22:15:29:633</td>\n",
       "      <td>Step_StandReportReceiver</td>\n",
       "      <td>30002312</td>\n",
       "      <td>onReceive action: android.intent.action.SCREEN_ON</td>\n",
       "      <td>E41</td>\n",
       "      <td>onReceive action: android.intent.action.SCREEN_ON</td>\n",
       "    </tr>\n",
       "    <tr>\n",
       "      <th>3</th>\n",
       "      <td>4</td>\n",
       "      <td>20171223-22:15:29:635</td>\n",
       "      <td>Step_LSC</td>\n",
       "      <td>30002312</td>\n",
       "      <td>processHandleBroadcastAction action:android.in...</td>\n",
       "      <td>E43</td>\n",
       "      <td>processHandleBroadcastAction action:android.in...</td>\n",
       "    </tr>\n",
       "    <tr>\n",
       "      <th>4</th>\n",
       "      <td>5</td>\n",
       "      <td>20171223-22:15:29:635</td>\n",
       "      <td>Step_StandStepCounter</td>\n",
       "      <td>30002312</td>\n",
       "      <td>flush sensor data</td>\n",
       "      <td>E12</td>\n",
       "      <td>flush sensor data</td>\n",
       "    </tr>\n",
       "  </tbody>\n",
       "</table>\n",
       "</div>"
      ],
      "text/plain": [
       "   LineId                   Time                 Component       Pid  \\\n",
       "0       1  20171223-22:15:29:606                  Step_LSC  30002312   \n",
       "1       2  20171223-22:15:29:615                  Step_LSC  30002312   \n",
       "2       3  20171223-22:15:29:633  Step_StandReportReceiver  30002312   \n",
       "3       4  20171223-22:15:29:635                  Step_LSC  30002312   \n",
       "4       5  20171223-22:15:29:635     Step_StandStepCounter  30002312   \n",
       "\n",
       "                                             Content EventId  \\\n",
       "0                            onStandStepChanged 3579     E42   \n",
       "1                      onExtend:1514038530000 14 0 4     E39   \n",
       "2  onReceive action: android.intent.action.SCREEN_ON     E41   \n",
       "3  processHandleBroadcastAction action:android.in...     E43   \n",
       "4                                  flush sensor data     E12   \n",
       "\n",
       "                                       EventTemplate  \n",
       "0                             onStandStepChanged <*>  \n",
       "1                           onExtend:<*> <*> <*> <*>  \n",
       "2  onReceive action: android.intent.action.SCREEN_ON  \n",
       "3  processHandleBroadcastAction action:android.in...  \n",
       "4                                  flush sensor data  "
      ]
     },
     "execution_count": 359,
     "metadata": {},
     "output_type": "execute_result"
    }
   ],
   "source": [
    "df.head()"
   ]
  },
  {
   "cell_type": "code",
   "execution_count": 360,
   "id": "3c31f565",
   "metadata": {},
   "outputs": [
    {
     "data": {
      "text/html": [
       "<div>\n",
       "<style scoped>\n",
       "    .dataframe tbody tr th:only-of-type {\n",
       "        vertical-align: middle;\n",
       "    }\n",
       "\n",
       "    .dataframe tbody tr th {\n",
       "        vertical-align: top;\n",
       "    }\n",
       "\n",
       "    .dataframe thead th {\n",
       "        text-align: right;\n",
       "    }\n",
       "</style>\n",
       "<table border=\"1\" class=\"dataframe\">\n",
       "  <thead>\n",
       "    <tr style=\"text-align: right;\">\n",
       "      <th></th>\n",
       "      <th>LineId</th>\n",
       "      <th>Pid</th>\n",
       "    </tr>\n",
       "  </thead>\n",
       "  <tbody>\n",
       "    <tr>\n",
       "      <th>count</th>\n",
       "      <td>2000.000000</td>\n",
       "      <td>2000.0</td>\n",
       "    </tr>\n",
       "    <tr>\n",
       "      <th>mean</th>\n",
       "      <td>1000.500000</td>\n",
       "      <td>30002312.0</td>\n",
       "    </tr>\n",
       "    <tr>\n",
       "      <th>std</th>\n",
       "      <td>577.494589</td>\n",
       "      <td>0.0</td>\n",
       "    </tr>\n",
       "    <tr>\n",
       "      <th>min</th>\n",
       "      <td>1.000000</td>\n",
       "      <td>30002312.0</td>\n",
       "    </tr>\n",
       "    <tr>\n",
       "      <th>25%</th>\n",
       "      <td>500.750000</td>\n",
       "      <td>30002312.0</td>\n",
       "    </tr>\n",
       "    <tr>\n",
       "      <th>50%</th>\n",
       "      <td>1000.500000</td>\n",
       "      <td>30002312.0</td>\n",
       "    </tr>\n",
       "    <tr>\n",
       "      <th>75%</th>\n",
       "      <td>1500.250000</td>\n",
       "      <td>30002312.0</td>\n",
       "    </tr>\n",
       "    <tr>\n",
       "      <th>max</th>\n",
       "      <td>2000.000000</td>\n",
       "      <td>30002312.0</td>\n",
       "    </tr>\n",
       "  </tbody>\n",
       "</table>\n",
       "</div>"
      ],
      "text/plain": [
       "            LineId         Pid\n",
       "count  2000.000000      2000.0\n",
       "mean   1000.500000  30002312.0\n",
       "std     577.494589         0.0\n",
       "min       1.000000  30002312.0\n",
       "25%     500.750000  30002312.0\n",
       "50%    1000.500000  30002312.0\n",
       "75%    1500.250000  30002312.0\n",
       "max    2000.000000  30002312.0"
      ]
     },
     "execution_count": 360,
     "metadata": {},
     "output_type": "execute_result"
    }
   ],
   "source": [
    "df.describe()"
   ]
  },
  {
   "cell_type": "code",
   "execution_count": 361,
   "id": "01548fe3",
   "metadata": {},
   "outputs": [
    {
     "data": {
      "text/html": [
       "<div>\n",
       "<style scoped>\n",
       "    .dataframe tbody tr th:only-of-type {\n",
       "        vertical-align: middle;\n",
       "    }\n",
       "\n",
       "    .dataframe tbody tr th {\n",
       "        vertical-align: top;\n",
       "    }\n",
       "\n",
       "    .dataframe thead th {\n",
       "        text-align: right;\n",
       "    }\n",
       "</style>\n",
       "<table border=\"1\" class=\"dataframe\">\n",
       "  <thead>\n",
       "    <tr style=\"text-align: right;\">\n",
       "      <th></th>\n",
       "      <th>LineId</th>\n",
       "      <th>Time</th>\n",
       "      <th>Component</th>\n",
       "      <th>Pid</th>\n",
       "      <th>Content</th>\n",
       "      <th>EventId</th>\n",
       "      <th>EventTemplate</th>\n",
       "    </tr>\n",
       "  </thead>\n",
       "  <tbody>\n",
       "    <tr>\n",
       "      <th>0</th>\n",
       "      <td>False</td>\n",
       "      <td>False</td>\n",
       "      <td>False</td>\n",
       "      <td>False</td>\n",
       "      <td>False</td>\n",
       "      <td>False</td>\n",
       "      <td>False</td>\n",
       "    </tr>\n",
       "    <tr>\n",
       "      <th>1</th>\n",
       "      <td>False</td>\n",
       "      <td>False</td>\n",
       "      <td>False</td>\n",
       "      <td>False</td>\n",
       "      <td>False</td>\n",
       "      <td>False</td>\n",
       "      <td>False</td>\n",
       "    </tr>\n",
       "    <tr>\n",
       "      <th>2</th>\n",
       "      <td>False</td>\n",
       "      <td>False</td>\n",
       "      <td>False</td>\n",
       "      <td>False</td>\n",
       "      <td>False</td>\n",
       "      <td>False</td>\n",
       "      <td>False</td>\n",
       "    </tr>\n",
       "    <tr>\n",
       "      <th>3</th>\n",
       "      <td>False</td>\n",
       "      <td>False</td>\n",
       "      <td>False</td>\n",
       "      <td>False</td>\n",
       "      <td>False</td>\n",
       "      <td>False</td>\n",
       "      <td>False</td>\n",
       "    </tr>\n",
       "    <tr>\n",
       "      <th>4</th>\n",
       "      <td>False</td>\n",
       "      <td>False</td>\n",
       "      <td>False</td>\n",
       "      <td>False</td>\n",
       "      <td>False</td>\n",
       "      <td>False</td>\n",
       "      <td>False</td>\n",
       "    </tr>\n",
       "    <tr>\n",
       "      <th>...</th>\n",
       "      <td>...</td>\n",
       "      <td>...</td>\n",
       "      <td>...</td>\n",
       "      <td>...</td>\n",
       "      <td>...</td>\n",
       "      <td>...</td>\n",
       "      <td>...</td>\n",
       "    </tr>\n",
       "    <tr>\n",
       "      <th>1995</th>\n",
       "      <td>False</td>\n",
       "      <td>False</td>\n",
       "      <td>False</td>\n",
       "      <td>False</td>\n",
       "      <td>False</td>\n",
       "      <td>False</td>\n",
       "      <td>False</td>\n",
       "    </tr>\n",
       "    <tr>\n",
       "      <th>1996</th>\n",
       "      <td>False</td>\n",
       "      <td>False</td>\n",
       "      <td>False</td>\n",
       "      <td>False</td>\n",
       "      <td>False</td>\n",
       "      <td>False</td>\n",
       "      <td>False</td>\n",
       "    </tr>\n",
       "    <tr>\n",
       "      <th>1997</th>\n",
       "      <td>False</td>\n",
       "      <td>False</td>\n",
       "      <td>False</td>\n",
       "      <td>False</td>\n",
       "      <td>False</td>\n",
       "      <td>False</td>\n",
       "      <td>False</td>\n",
       "    </tr>\n",
       "    <tr>\n",
       "      <th>1998</th>\n",
       "      <td>False</td>\n",
       "      <td>False</td>\n",
       "      <td>False</td>\n",
       "      <td>False</td>\n",
       "      <td>False</td>\n",
       "      <td>False</td>\n",
       "      <td>False</td>\n",
       "    </tr>\n",
       "    <tr>\n",
       "      <th>1999</th>\n",
       "      <td>False</td>\n",
       "      <td>False</td>\n",
       "      <td>False</td>\n",
       "      <td>False</td>\n",
       "      <td>False</td>\n",
       "      <td>False</td>\n",
       "      <td>False</td>\n",
       "    </tr>\n",
       "  </tbody>\n",
       "</table>\n",
       "<p>2000 rows × 7 columns</p>\n",
       "</div>"
      ],
      "text/plain": [
       "      LineId   Time  Component    Pid  Content  EventId  EventTemplate\n",
       "0      False  False      False  False    False    False          False\n",
       "1      False  False      False  False    False    False          False\n",
       "2      False  False      False  False    False    False          False\n",
       "3      False  False      False  False    False    False          False\n",
       "4      False  False      False  False    False    False          False\n",
       "...      ...    ...        ...    ...      ...      ...            ...\n",
       "1995   False  False      False  False    False    False          False\n",
       "1996   False  False      False  False    False    False          False\n",
       "1997   False  False      False  False    False    False          False\n",
       "1998   False  False      False  False    False    False          False\n",
       "1999   False  False      False  False    False    False          False\n",
       "\n",
       "[2000 rows x 7 columns]"
      ]
     },
     "execution_count": 361,
     "metadata": {},
     "output_type": "execute_result"
    }
   ],
   "source": [
    "df.isnull()"
   ]
  },
  {
   "cell_type": "code",
   "execution_count": 362,
   "id": "ca9a42fc",
   "metadata": {},
   "outputs": [
    {
     "data": {
      "text/plain": [
       "Index(['LineId', 'Time', 'Component', 'Pid', 'Content', 'EventId',\n",
       "       'EventTemplate'],\n",
       "      dtype='object')"
      ]
     },
     "execution_count": 362,
     "metadata": {},
     "output_type": "execute_result"
    }
   ],
   "source": [
    "df.columns"
   ]
  },
  {
   "cell_type": "code",
   "execution_count": 363,
   "id": "8bc65231",
   "metadata": {},
   "outputs": [
    {
     "data": {
      "text/plain": [
       "0       20171223-22:15:29:606\n",
       "1       20171223-22:15:29:615\n",
       "2       20171223-22:15:29:633\n",
       "3       20171223-22:15:29:635\n",
       "4       20171223-22:15:29:635\n",
       "                ...          \n",
       "1995     20171224-0:58:53:985\n",
       "1996      20171224-0:59:7:581\n",
       "1997       20171224-1:0:0:794\n",
       "1998       20171224-1:1:0:935\n",
       "1999      20171224-1:2:35:789\n",
       "Name: Time, Length: 2000, dtype: object"
      ]
     },
     "execution_count": 363,
     "metadata": {},
     "output_type": "execute_result"
    }
   ],
   "source": [
    "df['Time']"
   ]
  },
  {
   "cell_type": "code",
   "execution_count": 364,
   "id": "348eaef5",
   "metadata": {},
   "outputs": [
    {
     "data": {
      "text/plain": [
       "count         2000\n",
       "unique          20\n",
       "top       Step_LSC\n",
       "freq           710\n",
       "Name: Component, dtype: object"
      ]
     },
     "execution_count": 364,
     "metadata": {},
     "output_type": "execute_result"
    }
   ],
   "source": [
    "df['Component'].describe()"
   ]
  },
  {
   "cell_type": "code",
   "execution_count": 342,
   "id": "b2f4fcf6",
   "metadata": {},
   "outputs": [],
   "source": [
    "from io import StringIO\n",
    "df = pd.read_csv('C:/Users/khush/Documents/Python_Programs/HealthApp_2k.log_structured.csv')\n"
   ]
  },
  {
   "cell_type": "code",
   "execution_count": 343,
   "id": "52ee7649",
   "metadata": {},
   "outputs": [
    {
     "data": {
      "text/html": [
       "<div>\n",
       "<style scoped>\n",
       "    .dataframe tbody tr th:only-of-type {\n",
       "        vertical-align: middle;\n",
       "    }\n",
       "\n",
       "    .dataframe tbody tr th {\n",
       "        vertical-align: top;\n",
       "    }\n",
       "\n",
       "    .dataframe thead th {\n",
       "        text-align: right;\n",
       "    }\n",
       "</style>\n",
       "<table border=\"1\" class=\"dataframe\">\n",
       "  <thead>\n",
       "    <tr style=\"text-align: right;\">\n",
       "      <th></th>\n",
       "      <th>LineId</th>\n",
       "      <th>Time</th>\n",
       "      <th>Component</th>\n",
       "      <th>Pid</th>\n",
       "      <th>Content</th>\n",
       "      <th>EventId</th>\n",
       "      <th>EventTemplate</th>\n",
       "    </tr>\n",
       "  </thead>\n",
       "  <tbody>\n",
       "    <tr>\n",
       "      <th>0</th>\n",
       "      <td>1</td>\n",
       "      <td>20171223-22:15:29:606</td>\n",
       "      <td>Step_LSC</td>\n",
       "      <td>30002312</td>\n",
       "      <td>onStandStepChanged 3579</td>\n",
       "      <td>E42</td>\n",
       "      <td>onStandStepChanged &lt;*&gt;</td>\n",
       "    </tr>\n",
       "    <tr>\n",
       "      <th>1</th>\n",
       "      <td>2</td>\n",
       "      <td>20171223-22:15:29:615</td>\n",
       "      <td>Step_LSC</td>\n",
       "      <td>30002312</td>\n",
       "      <td>onExtend:1514038530000 14 0 4</td>\n",
       "      <td>E39</td>\n",
       "      <td>onExtend:&lt;*&gt; &lt;*&gt; &lt;*&gt; &lt;*&gt;</td>\n",
       "    </tr>\n",
       "    <tr>\n",
       "      <th>2</th>\n",
       "      <td>3</td>\n",
       "      <td>20171223-22:15:29:633</td>\n",
       "      <td>Step_StandReportReceiver</td>\n",
       "      <td>30002312</td>\n",
       "      <td>onReceive action: android.intent.action.SCREEN_ON</td>\n",
       "      <td>E41</td>\n",
       "      <td>onReceive action: android.intent.action.SCREEN_ON</td>\n",
       "    </tr>\n",
       "    <tr>\n",
       "      <th>3</th>\n",
       "      <td>4</td>\n",
       "      <td>20171223-22:15:29:635</td>\n",
       "      <td>Step_LSC</td>\n",
       "      <td>30002312</td>\n",
       "      <td>processHandleBroadcastAction action:android.in...</td>\n",
       "      <td>E43</td>\n",
       "      <td>processHandleBroadcastAction action:android.in...</td>\n",
       "    </tr>\n",
       "    <tr>\n",
       "      <th>4</th>\n",
       "      <td>5</td>\n",
       "      <td>20171223-22:15:29:635</td>\n",
       "      <td>Step_StandStepCounter</td>\n",
       "      <td>30002312</td>\n",
       "      <td>flush sensor data</td>\n",
       "      <td>E12</td>\n",
       "      <td>flush sensor data</td>\n",
       "    </tr>\n",
       "  </tbody>\n",
       "</table>\n",
       "</div>"
      ],
      "text/plain": [
       "   LineId                   Time                 Component       Pid  \\\n",
       "0       1  20171223-22:15:29:606                  Step_LSC  30002312   \n",
       "1       2  20171223-22:15:29:615                  Step_LSC  30002312   \n",
       "2       3  20171223-22:15:29:633  Step_StandReportReceiver  30002312   \n",
       "3       4  20171223-22:15:29:635                  Step_LSC  30002312   \n",
       "4       5  20171223-22:15:29:635     Step_StandStepCounter  30002312   \n",
       "\n",
       "                                             Content EventId  \\\n",
       "0                            onStandStepChanged 3579     E42   \n",
       "1                      onExtend:1514038530000 14 0 4     E39   \n",
       "2  onReceive action: android.intent.action.SCREEN_ON     E41   \n",
       "3  processHandleBroadcastAction action:android.in...     E43   \n",
       "4                                  flush sensor data     E12   \n",
       "\n",
       "                                       EventTemplate  \n",
       "0                             onStandStepChanged <*>  \n",
       "1                           onExtend:<*> <*> <*> <*>  \n",
       "2  onReceive action: android.intent.action.SCREEN_ON  \n",
       "3  processHandleBroadcastAction action:android.in...  \n",
       "4                                  flush sensor data  "
      ]
     },
     "execution_count": 343,
     "metadata": {},
     "output_type": "execute_result"
    }
   ],
   "source": [
    "df.head()"
   ]
  },
  {
   "cell_type": "code",
   "execution_count": 344,
   "id": "7eca28f9",
   "metadata": {},
   "outputs": [
    {
     "data": {
      "text/plain": [
       "0       20171223-22:15:29:606\n",
       "1       20171223-22:15:29:615\n",
       "2       20171223-22:15:29:633\n",
       "3       20171223-22:15:29:635\n",
       "4       20171223-22:15:29:635\n",
       "                ...          \n",
       "1995     20171224-0:58:53:985\n",
       "1996      20171224-0:59:7:581\n",
       "1997       20171224-1:0:0:794\n",
       "1998       20171224-1:1:0:935\n",
       "1999      20171224-1:2:35:789\n",
       "Name: Time, Length: 2000, dtype: object"
      ]
     },
     "execution_count": 344,
     "metadata": {},
     "output_type": "execute_result"
    }
   ],
   "source": [
    "#Workout time\n",
    "df['Time']"
   ]
  },
  {
   "cell_type": "code",
   "execution_count": 350,
   "id": "bdbf1e9c",
   "metadata": {},
   "outputs": [
    {
     "data": {
      "image/png": "[encoded data removed]",
      "text/plain": [
       "<Figure size 640x480 with 1 Axes>"
      ]
     },
     "metadata": {},
     "output_type": "display_data"
    }
   ],
   "source": [
    "#Daily Basic Steps\n",
    "daily_steps.plot(kind='pie', title='Daily Steps')\n",
    "plt.xlabel('Date')\n",
    "plt.ylabel('Steps')\n",
    "plt.show()"
   ]
  },
  {
   "cell_type": "code",
   "execution_count": 357,
   "id": "a4bac2dc",
   "metadata": {},
   "outputs": [
    {
     "data": {
      "image/png": "[encoded data removed]",
      "text/plain": [
       "<Figure size 640x480 with 1 Axes>"
      ]
     },
     "metadata": {},
     "output_type": "display_data"
    }
   ],
   "source": [
    "#Daily Basic Steps\n",
    "daily_steps.plot(kind='bar', title='Daily Steps')\n",
    "plt.xlabel('Date')\n",
    "plt.ylabel('Steps')\n",
    "plt.show()"
   ]
  },
  {
   "cell_type": "code",
   "execution_count": 354,
   "id": "4c30c549",
   "metadata": {},
   "outputs": [
    {
     "data": {
      "image/png": "[encoded data removed]",
      "text/plain": [
       "<Figure size 640x480 with 1 Axes>"
      ]
     },
     "metadata": {},
     "output_type": "display_data"
    }
   ],
   "source": [
    "#Active times per day\n",
    "active_times.plot(kind='bar', title='Active Times per Day')\n",
    "\n",
    "plt.xlabel('Date')\n",
    "plt.ylabel('Number of Active Times')\n",
    "plt.show()"
   ]
  },
  {
   "cell_type": "code",
   "execution_count": null,
   "id": "176de59f",
   "metadata": {},
   "outputs": [],
   "source": []
  }
 ],
 "metadata": {
  "kernelspec": {
   "display_name": "Python 3 (ipykernel)",
   "language": "python",
   "name": "python3"
  },
  "language_info": {
   "codemirror_mode": {
    "name": "ipython",
    "version": 3
   },
   "file_extension": ".py",
   "mimetype": "text/x-python",
   "name": "python",
   "nbconvert_exporter": "python",
   "pygments_lexer": "ipython3",
   "version": "3.11.3"
  }
 },
 "nbformat": 4,
 "nbformat_minor": 5
}
